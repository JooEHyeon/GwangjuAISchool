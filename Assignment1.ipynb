{
  "nbformat": 4,
  "nbformat_minor": 0,
  "metadata": {
    "colab": {
      "name": "Assignment1.ipynb",
      "provenance": [],
      "authorship_tag": "ABX9TyNUSVGuadCIERNico2MjGkn",
      "include_colab_link": true
    },
    "kernelspec": {
      "name": "python3",
      "display_name": "Python 3"
    }
  },
  "cells": [
    {
      "cell_type": "markdown",
      "metadata": {
        "id": "view-in-github",
        "colab_type": "text"
      },
      "source": [
        "<a href=\"https://colab.research.google.com/github/JooEHyeon/GwangjuAISchool/blob/master/Assignment1.ipynb\" target=\"_parent\"><img src=\"https://colab.research.google.com/assets/colab-badge.svg\" alt=\"Open In Colab\"/></a>"
      ]
    },
    {
      "cell_type": "markdown",
      "metadata": {
        "id": "gdNFf786L5ki",
        "colab_type": "text"
      },
      "source": [
        "# 1주차 과제\n",
        "시중에 나와있는 다양한 제품들과 서비스 속 적용된 인공지능 기술 분석하며 학습 목표 세우기\n",
        "\n",
        "* 언어 -> [구글 번역](https://translate.google.com/intl/en/about/)\n",
        "\n",
        "딥러닝(심층학습)을 사용한다.\n",
        "구글 신경 기계 번역(GNMT)라는 기술을 사용하는데 입력된 문장을 통째로 읽어 번역하는 방식이다.(기존에는 단어와 구절 등으로 분해하고 합성하는 방식이었다.)\n",
        "저장된 방대한 단어, 구절, 문장 중 연관성 없는 것을 제가해가며 번역하는 방식으로 데이터를 학습하여 많은 데이터를 빠르게 처리할 수 있다고 한다.\n",
        "\n",
        "\n",
        "* 음성 -> [네이버클로바](https://clova.ai/ko)\n",
        "\n",
        "사용자의 음성 데이터 분석 결과와 기존에 기억된 유사 대화 정보를 바탕으로 의도를 판단하여 지속 학습을 통해 스스로 발전하는 인공지능 대화 시스템 기술을 적용하였다.\n",
        "\n",
        "* 이미지 -> [카메라 앱 '스노우'](https://play.google.com/store/apps/details?id=com.campmobile.snow&hl=ko)\n",
        "\n",
        "머신러닝과 윤곽선 정보 훈련이 병행된다. 얼굴의 입체적인 형태를 따라 달라지는 밝기를 감지해 얼굴이라고 인식한다. 이 과정에서 머신러닝으로 얼굴 패턴을 찾아내는 알고리즘이 형성된다. 눈코입의 위치를 보다 정확하게 추정하기 위해서는 윤곽선 정보 훈련이 필요하다. 머신러닝과 윤곽선 정보 훈련 데이터가 쌓일수록 얼굴인식의 정확성과 속도가 향상된다. \n",
        "\n",
        "\n",
        "* 자율주행 -> [테슬라 자율주행 자동차](https://www.tesla.com/ko_KR/autopilot)\n",
        "\n",
        "도로 상의 교통 신호, 장애물을 정의할 수 있는 일종의 이미지 인식 시스템이 사용된다. 기밀 사항인지 자세히는 알 수 없었다.\n",
        "\n",
        "**그래서 나는 어떤 인공지능을 만들고 싶은가?**\n",
        "1. 우선적으로는 나의 스펙과 다른 사람의 스펙을 비교해주는 **취업 관련 어플리케이션**을 만들고 싶다\n",
        "-> 언어 인공지능 필요\n",
        "\n",
        "-> (면접 관련한 기능 넣을 시) 이미지 및 음성 인공지능도 필요\n",
        "\n",
        "2. 사람들이 입은 옷을 바탕으로 오늘 날씨에 맞는 옷을 추천해주는 (기왕이면 데이터를 모아 내가 산 옷들을 기반으로) **패션 어플리케이션**을 만들고 싶다.\n",
        "-> 이미지 인공지능 필요\n",
        "\n",
        "\n",
        "**위의 어플리케이션을 만들 방법을 찾는 방식으로 공부해야겠다!**\n",
        "\n",
        "\n",
        "\n"
      ]
    }
  ]
}